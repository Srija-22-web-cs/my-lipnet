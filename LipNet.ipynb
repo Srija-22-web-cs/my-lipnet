{
 "cells": [
  {
   "cell_type": "code",
   "execution_count": null,
   "id": "8aa4aa9f-34d0-4048-9fb1-fbee54096aa5",
   "metadata": {},
   "outputs": [],
   "source": [
    "!pip install opencv-python matplotlib imageio gdown tensorflow\n"
   ]
  },
  {
   "cell_type": "code",
   "execution_count": null,
   "id": "3d493fdf-b291-4c9f-9623-e63716746a0f",
   "metadata": {},
   "outputs": [],
   "source": [
    "import os #navigate through file system \n",
    "import cv2 #pre-process and load up \n",
    "import tensorflow as tf #deep learning framing \n",
    "import numpy as np\n",
    "from typing import List \n",
    "import matplotlib.pyplot as plt \n",
    "import imageio #\n",
    "import gdown"
   ]
  },
  {
   "cell_type": "code",
   "execution_count": null,
   "id": "be50e797-ea85-44f1-b0ad-1d0ee313af61",
   "metadata": {},
   "outputs": [],
   "source": []
  }
 ],
 "metadata": {
  "kernelspec": {
   "display_name": "Python 3 (ipykernel)",
   "language": "python",
   "name": "python3"
  },
  "language_info": {
   "codemirror_mode": {
    "name": "ipython",
    "version": 3
   },
   "file_extension": ".py",
   "mimetype": "text/x-python",
   "name": "python",
   "nbconvert_exporter": "python",
   "pygments_lexer": "ipython3",
   "version": "3.10.1"
  }
 },
 "nbformat": 4,
 "nbformat_minor": 5
}
